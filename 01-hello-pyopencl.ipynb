{
  "metadata": {
    "name": "",
    "signature": "sha256:d407cb4645ff5112d8d4d42ec7f7a99a5e3f2bc53d4983351b58f43f824d7d86"
  },
  "nbformat": 3,
  "nbformat_minor": 0,
  "worksheets": [
    {
      "cells": [
        {
          "cell_type": "code",
          "collapsed": false,
          "input": [
            "#keep\n",
            "import pyopencl as cl\n",
            "import numpy as np\n",
            "import numpy.linalg as la\n",
            "\n",
            "mf = cl.mem_flags"
          ],
          "language": "python",
          "metadata": {},
          "outputs": []
        },
        {
          "cell_type": "code",
          "collapsed": false,
          "input": [
            "#keep\n",
            "a = np.random.rand(50000).astype(np.float32)"
          ],
          "language": "python",
          "metadata": {},
          "outputs": []
        },
        {
          "cell_type": "markdown",
          "metadata": {},
          "source": [
            "Now create a context."
          ]
        },
        {
          "cell_type": "code",
          "collapsed": false,
          "input": [
            "ctx = cl.create_some_context()\n",
            "queue = cl.CommandQueue(ctx)"
          ],
          "language": "python",
          "metadata": {},
          "outputs": []
        },
        {
          "cell_type": "markdown",
          "metadata": {},
          "source": [
            "Now allocate a buffer. `Buffer(context, flags, size=None, hostbuf=None)`"
          ]
        },
        {
          "cell_type": "code",
          "collapsed": false,
          "input": [
            "a_buf = cl.Buffer(ctx, mf.READ_WRITE | mf.COPY_HOST_PTR, hostbuf=a)"
          ],
          "language": "python",
          "metadata": {},
          "outputs": []
        },
        {
          "cell_type": "code",
          "collapsed": false,
          "input": [
            "#keep\n",
            "prg = cl.Program(ctx, \"\"\"\n",
            "    __kernel void twice(__global float *a)\n",
            "    {\n",
            "      int gid = get_global_id(0);\n",
            "      a[gid] = 2*a[gid];\n",
            "    }\n",
            "    \"\"\").build()"
          ],
          "language": "python",
          "metadata": {},
          "outputs": []
        },
        {
          "cell_type": "markdown",
          "metadata": {},
          "source": [
            "Run the kernel."
          ]
        },
        {
          "cell_type": "code",
          "collapsed": false,
          "input": [
            "prg.twice(queue, a.shape, None, a_buf)"
          ],
          "language": "python",
          "metadata": {},
          "outputs": []
        },
        {
          "cell_type": "markdown",
          "metadata": {},
          "source": [
            "Copy the data back."
          ]
        },
        {
          "cell_type": "code",
          "collapsed": false,
          "input": [
            "result = np.empty_like(a)\n",
            "cl.enqueue_copy(queue, result, a_buf)"
          ],
          "language": "python",
          "metadata": {},
          "outputs": []
        },
        {
          "cell_type": "markdown",
          "metadata": {},
          "source": [
            "Check the result."
          ]
        },
        {
          "cell_type": "code",
          "collapsed": false,
          "input": [
            "print la.norm(result - 2*a), la.norm(a)"
          ],
          "language": "python",
          "metadata": {},
          "outputs": []
        }
      ],
      "metadata": {}
    }
  ]
}