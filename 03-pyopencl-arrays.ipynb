{
  "metadata": {
    "name": "",
    "signature": "sha256:6663969729b6f8b20a60739acb9063f408969ab38ddb5f24fb21e6029c235129"
  },
  "nbformat": 3,
  "nbformat_minor": 0,
  "worksheets": [
    {
      "cells": [
        {
          "cell_type": "code",
          "collapsed": false,
          "input": [
            "#keep\n",
            "import pyopencl as cl\n",
            "import numpy as np\n",
            "import numpy.linalg as la"
          ],
          "language": "python",
          "metadata": {},
          "outputs": []
        },
        {
          "cell_type": "code",
          "collapsed": false,
          "input": [
            "#keep\n",
            "a = np.random.rand(1024, 1024).astype(np.float32)"
          ],
          "language": "python",
          "metadata": {},
          "outputs": []
        },
        {
          "cell_type": "code",
          "collapsed": false,
          "input": [
            "#keep\n",
            "ctx = cl.create_some_context()\n",
            "queue = cl.CommandQueue(ctx)"
          ],
          "language": "python",
          "metadata": {},
          "outputs": []
        },
        {
          "cell_type": "markdown",
          "metadata": {},
          "source": [
            "---"
          ]
        },
        {
          "cell_type": "markdown",
          "metadata": {},
          "source": [
            "This here is the important bit. :)"
          ]
        },
        {
          "cell_type": "code",
          "collapsed": false,
          "input": [
            "#keep\n",
            "import pyopencl.array"
          ],
          "language": "python",
          "metadata": {},
          "outputs": []
        },
        {
          "cell_type": "markdown",
          "metadata": {},
          "source": [
            "Now transfer to a *device array*."
          ]
        },
        {
          "cell_type": "code",
          "collapsed": false,
          "input": [
            "a_dev = cl.array.to_device(queue, a)"
          ],
          "language": "python",
          "metadata": {},
          "outputs": []
        },
        {
          "cell_type": "markdown",
          "metadata": {},
          "source": [
            "Works like a numpy array! (`shape`, `dtype`, `strides`)"
          ]
        },
        {
          "cell_type": "code",
          "collapsed": false,
          "input": [
            "a_dev.shape"
          ],
          "language": "python",
          "metadata": {},
          "outputs": []
        },
        {
          "cell_type": "code",
          "collapsed": false,
          "input": [
            "a_dev.dtype"
          ],
          "language": "python",
          "metadata": {},
          "outputs": []
        },
        {
          "cell_type": "code",
          "collapsed": false,
          "input": [
            "a_dev.strides"
          ],
          "language": "python",
          "metadata": {},
          "outputs": []
        },
        {
          "cell_type": "markdown",
          "metadata": {},
          "source": [
            "----"
          ]
        },
        {
          "cell_type": "markdown",
          "metadata": {},
          "source": [
            "**Goal:** Wanted to double all entries."
          ]
        },
        {
          "cell_type": "code",
          "collapsed": false,
          "input": [
            "twice_a_dev = 2*a_dev"
          ],
          "language": "python",
          "metadata": {},
          "outputs": []
        },
        {
          "cell_type": "markdown",
          "metadata": {},
          "source": [
            "Easy to turn back into a `numpy` array."
          ]
        },
        {
          "cell_type": "code",
          "collapsed": false,
          "input": [
            "twice_a = twice_a_dev.get()"
          ],
          "language": "python",
          "metadata": {},
          "outputs": []
        },
        {
          "cell_type": "markdown",
          "metadata": {},
          "source": [
            "Check!"
          ]
        },
        {
          "cell_type": "code",
          "collapsed": false,
          "input": [
            "#check\n",
            "print la.norm(twice_a - 2*a)"
          ],
          "language": "python",
          "metadata": {},
          "outputs": []
        },
        {
          "cell_type": "markdown",
          "metadata": {},
          "source": [
            "Can just `print` the array, too."
          ]
        },
        {
          "cell_type": "code",
          "collapsed": false,
          "input": [
            "print twice_a_dev"
          ],
          "language": "python",
          "metadata": {},
          "outputs": []
        },
        {
          "cell_type": "markdown",
          "metadata": {},
          "source": [
            "----"
          ]
        },
        {
          "cell_type": "markdown",
          "metadata": {},
          "source": [
            "Easy to evaluate arbitrary (elementwise) expressions."
          ]
        },
        {
          "cell_type": "code",
          "collapsed": false,
          "input": [
            "#keep\n",
            "import pyopencl.clmath"
          ],
          "language": "python",
          "metadata": {},
          "outputs": []
        },
        {
          "cell_type": "code",
          "collapsed": false,
          "input": [
            "#keep\n",
            "cl.clmath.sin(a_dev)**2 - (1./a_dev) + 5"
          ],
          "language": "python",
          "metadata": {},
          "outputs": []
        },
        {
          "cell_type": "markdown",
          "metadata": {},
          "source": [
            "---\n",
            "\n",
            "Can still do everything manually though!"
          ]
        },
        {
          "cell_type": "code",
          "collapsed": false,
          "input": [
            "#keep\n",
            "prg = cl.Program(ctx, \"\"\"\n",
            "    __kernel void twice(__global float *a)\n",
            "    {\n",
            "      int gid0 = get_global_id(0);\n",
            "      int gid1 = get_global_id(1);\n",
            "      int i = gid1 * 1024 + gid0;\n",
            "      a[i] = 2*a[i];\n",
            "    }\n",
            "    \"\"\").build()\n",
            "twice = prg.twice"
          ],
          "language": "python",
          "metadata": {},
          "outputs": []
        },
        {
          "cell_type": "code",
          "collapsed": false,
          "input": [
            "twice(queue, a_dev.shape, None, a_dev.data)"
          ],
          "language": "python",
          "metadata": {},
          "outputs": []
        },
        {
          "cell_type": "code",
          "collapsed": false,
          "input": [
            "#keep\n",
            "print la.norm(a_dev.get() - 2*a), la.norm(a)"
          ],
          "language": "python",
          "metadata": {},
          "outputs": []
        },
        {
          "cell_type": "markdown",
          "metadata": {},
          "source": [
            "But the hardcoded 1024 is ... inelegant. So fix that!\n",
            "\n",
            "(Also with arg `dtype setting`.)"
          ]
        }
      ],
      "metadata": {}
    }
  ]
}