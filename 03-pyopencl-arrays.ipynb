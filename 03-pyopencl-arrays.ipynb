{
  "metadata": {
    "name": "",
    "signature": "sha256:6663969729b6f8b20a60739acb9063f408969ab38ddb5f24fb21e6029c235129"
  },
  "nbformat": 3,
  "nbformat_minor": 0,
  "worksheets": [
    {
      "cells": [
        {
          "cell_type": "code",
          "collapsed": false,
          "input": [
            "#keep\n",
            "import pyopencl as cl\n",
            "import numpy as np\n",
            "import numpy.linalg as la"
          ],
          "language": "python",
          "metadata": {},
          "outputs": [
            {
              "output_type": "stream",
              "stream": "stderr",
              "text": [
                "/usr/lib/python2.7/pkgutil.py:186: ImportWarning: Not importing directory '/usr/lib/python2.7/dist-packages/enthought': missing __init__.py\n",
                "  file, filename, etc = imp.find_module(subname, path)\n"
              ]
            }
          ],
          "prompt_number": 1
        },
        {
          "cell_type": "code",
          "collapsed": false,
          "input": [
            "#keep\n",
            "a = np.random.rand(1024, 1024).astype(np.float32)"
          ],
          "language": "python",
          "metadata": {},
          "outputs": [],
          "prompt_number": 2
        },
        {
          "cell_type": "code",
          "collapsed": false,
          "input": [
            "#keep\n",
            "ctx = cl.create_some_context()\n",
            "queue = cl.CommandQueue(ctx)"
          ],
          "language": "python",
          "metadata": {},
          "outputs": [],
          "prompt_number": 3
        },
        {
          "cell_type": "markdown",
          "metadata": {},
          "source": [
            "---"
          ]
        },
        {
          "cell_type": "markdown",
          "metadata": {},
          "source": [
            "This here is the important bit. :)"
          ]
        },
        {
          "cell_type": "code",
          "collapsed": false,
          "input": [
            "#keep\n",
            "import pyopencl.array"
          ],
          "language": "python",
          "metadata": {},
          "outputs": [],
          "prompt_number": 4
        },
        {
          "cell_type": "markdown",
          "metadata": {},
          "source": [
            "Now transfer to a *device array*."
          ]
        },
        {
          "cell_type": "code",
          "collapsed": false,
          "input": [
            "a_dev = cl.array.to_device(queue, a)"
          ],
          "language": "python",
          "metadata": {},
          "outputs": [],
          "prompt_number": 5
        },
        {
          "cell_type": "markdown",
          "metadata": {},
          "source": [
            "Works like a numpy array! (`shape`, `dtype`, `strides`)"
          ]
        },
        {
          "cell_type": "code",
          "collapsed": false,
          "input": [
            "a_dev.shape"
          ],
          "language": "python",
          "metadata": {},
          "outputs": [
            {
              "metadata": {},
              "output_type": "pyout",
              "prompt_number": 6,
              "text": [
                "(1024, 1024)"
              ]
            }
          ],
          "prompt_number": 6
        },
        {
          "cell_type": "code",
          "collapsed": false,
          "input": [
            "a_dev.dtype"
          ],
          "language": "python",
          "metadata": {},
          "outputs": [
            {
              "metadata": {},
              "output_type": "pyout",
              "prompt_number": 7,
              "text": [
                "dtype('float32')"
              ]
            }
          ],
          "prompt_number": 7
        },
        {
          "cell_type": "code",
          "collapsed": false,
          "input": [
            "a_dev.strides"
          ],
          "language": "python",
          "metadata": {},
          "outputs": [
            {
              "metadata": {},
              "output_type": "pyout",
              "prompt_number": 8,
              "text": [
                "(4096, 4)"
              ]
            }
          ],
          "prompt_number": 8
        },
        {
          "cell_type": "markdown",
          "metadata": {},
          "source": [
            "----"
          ]
        },
        {
          "cell_type": "markdown",
          "metadata": {},
          "source": [
            "**Goal:** Wanted to double all entries."
          ]
        },
        {
          "cell_type": "code",
          "collapsed": false,
          "input": [
            "twice_a_dev = 2*a_dev"
          ],
          "language": "python",
          "metadata": {},
          "outputs": [],
          "prompt_number": 9
        },
        {
          "cell_type": "markdown",
          "metadata": {},
          "source": [
            "Easy to turn back into a `numpy` array."
          ]
        },
        {
          "cell_type": "code",
          "collapsed": false,
          "input": [
            "twice_a = twice_a_dev.get()"
          ],
          "language": "python",
          "metadata": {},
          "outputs": [],
          "prompt_number": 10
        },
        {
          "cell_type": "markdown",
          "metadata": {},
          "source": [
            "Check!"
          ]
        },
        {
          "cell_type": "code",
          "collapsed": false,
          "input": [
            "#check\n",
            "print la.norm(twice_a - 2*a)"
          ],
          "language": "python",
          "metadata": {},
          "outputs": [
            {
              "output_type": "stream",
              "stream": "stdout",
              "text": [
                "0.0\n"
              ]
            }
          ],
          "prompt_number": 11
        },
        {
          "cell_type": "markdown",
          "metadata": {},
          "source": [
            "Can just `print` the array, too."
          ]
        },
        {
          "cell_type": "code",
          "collapsed": false,
          "input": [
            "print twice_a_dev"
          ],
          "language": "python",
          "metadata": {},
          "outputs": [
            {
              "output_type": "stream",
              "stream": "stdout",
              "text": [
                "[[ 1.71371961  0.52438366  1.3528682  ...,  0.17439704  0.21493888\n",
                "   0.5268929 ]\n",
                " [ 1.54645383  0.12229794  1.27529538 ...,  1.95549834  0.36409533\n",
                "   1.89388633]\n",
                " [ 1.17356837  1.31341767  1.84124553 ...,  0.67228991  0.259314\n",
                "   1.03691411]\n",
                " ..., \n",
                " [ 1.43921852  1.91812325  1.70784962 ...,  0.64105934  0.82975692\n",
                "   0.70741999]\n",
                " [ 0.57245809  0.39499831  1.79396141 ...,  1.27573812  0.0737279\n",
                "   1.77824771]\n",
                " [ 1.59799755  1.71173704  1.09492218 ...,  1.48448384  0.10693947\n",
                "   1.1239903 ]]\n"
              ]
            }
          ],
          "prompt_number": 12
        },
        {
          "cell_type": "markdown",
          "metadata": {},
          "source": [
            "----"
          ]
        },
        {
          "cell_type": "markdown",
          "metadata": {},
          "source": [
            "Easy to evaluate arbitrary (elementwise) expressions."
          ]
        },
        {
          "cell_type": "code",
          "collapsed": false,
          "input": [
            "#keep\n",
            "import pyopencl.clmath"
          ],
          "language": "python",
          "metadata": {},
          "outputs": [],
          "prompt_number": 13
        },
        {
          "cell_type": "code",
          "collapsed": false,
          "input": [
            "#keep\n",
            "cl.clmath.sin(a_dev)**2 - (1./a_dev) + 5"
          ],
          "language": "python",
          "metadata": {},
          "outputs": [
            {
              "metadata": {},
              "output_type": "pyout",
              "prompt_number": 14,
              "text": [
                "array([[  4.4041667 ,   1.25318241,   3.91355562, ...,  -6.46049976,\n",
                "         -4.29346561,   1.27197528],\n",
                "       [  4.19454861, -11.34976959,   3.78612614, ...,   4.66488457,\n",
                "         -0.46028996,   4.60271931],\n",
                "       [  3.60236406,   3.84998178,   4.5473609 , ...,   2.13389397,\n",
                "         -2.69594049,   3.3167603 ],\n",
                "       ..., \n",
                "       [  4.04475784,   4.62750721,   4.39724922, ...,   1.97943258,\n",
                "          2.75212812,   2.29280448],\n",
                "       [  1.58600855,  -0.02481174,   4.49580765, ...,   3.7868824 ,\n",
                "        -22.1254158 ,   4.47828054],\n",
                "       [  4.26203251,   4.40183353,   3.44432831, ...,   4.10962772,\n",
                "        -13.6993103 ,   3.50458145]], dtype=float32)"
              ]
            }
          ],
          "prompt_number": 14
        },
        {
          "cell_type": "markdown",
          "metadata": {},
          "source": [
            "---\n",
            "\n",
            "Can still do everything manually though!"
          ]
        },
        {
          "cell_type": "code",
          "collapsed": false,
          "input": [
            "#keep\n",
            "prg = cl.Program(ctx, \"\"\"\n",
            "    __kernel void twice(__global float *a)\n",
            "    {\n",
            "      int gid0 = get_global_id(0);\n",
            "      int gid1 = get_global_id(1);\n",
            "      int i = gid1 * 1024 + gid0;\n",
            "      a[i] = 2*a[i];\n",
            "    }\n",
            "    \"\"\").build()\n",
            "twice = prg.twice"
          ],
          "language": "python",
          "metadata": {},
          "outputs": [],
          "prompt_number": 19
        },
        {
          "cell_type": "code",
          "collapsed": false,
          "input": [
            "twice(queue, a_dev.shape, None, a_dev.data)"
          ],
          "language": "python",
          "metadata": {},
          "outputs": [
            {
              "metadata": {},
              "output_type": "pyout",
              "prompt_number": 20,
              "text": [
                "<pyopencl._cl.Event at 0x494e590>"
              ]
            }
          ],
          "prompt_number": 20
        },
        {
          "cell_type": "code",
          "collapsed": false,
          "input": [
            "#keep\n",
            "print la.norm(a_dev.get() - 2*a), la.norm(a)"
          ],
          "language": "python",
          "metadata": {},
          "outputs": [
            {
              "output_type": "stream",
              "stream": "stdout",
              "text": [
                "0.0 590.957\n"
              ]
            }
          ],
          "prompt_number": 18
        },
        {
          "cell_type": "markdown",
          "metadata": {},
          "source": [
            "But the hardcoded 1024 is ... inelegant. So fix that!\n",
            "\n",
            "(Also with arg `dtype setting`.)"
          ]
        }
      ],
      "metadata": {}
    }
  ]
}