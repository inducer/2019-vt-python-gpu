{
  "metadata": {
    "name": "",
    "signature": "sha256:3d9014c7f4cd3adc935f9ad301b34582e69f664dcb195daa728c1190919fc3e2"
  },
  "nbformat": 3,
  "nbformat_minor": 0,
  "worksheets": [
    {
      "cells": [
        {
          "cell_type": "code",
          "collapsed": false,
          "input": [
            "#keep\n",
            "import pyopencl as cl\n",
            "import pyopencl.array\n",
            "import pyopencl.clrandom\n",
            "import numpy as np"
          ],
          "language": "python",
          "metadata": {},
          "outputs": []
        },
        {
          "cell_type": "code",
          "collapsed": false,
          "input": [
            "#keep\n",
            "ctx = cl.create_some_context()\n",
            "queue = cl.CommandQueue(ctx)"
          ],
          "language": "python",
          "metadata": {},
          "outputs": []
        },
        {
          "cell_type": "code",
          "collapsed": false,
          "input": [
            "#keep\n",
            "n = 10**7\n",
            "x = cl.clrandom.rand(queue, n, np.float64)"
          ],
          "language": "python",
          "metadata": {},
          "outputs": []
        },
        {
          "cell_type": "markdown",
          "metadata": {},
          "source": [
            "Want to compute the sum of the squares of all entries in `x`.\n",
            "\n",
            "First, using `numpy`, as `result1`:"
          ]
        },
        {
          "cell_type": "code",
          "collapsed": false,
          "input": [
            "result1 = np.sum(x.get()**2)"
          ],
          "language": "python",
          "metadata": {},
          "outputs": []
        },
        {
          "cell_type": "markdown",
          "metadata": {},
          "source": [
            "Then, using PyOpenCL:"
          ]
        },
        {
          "cell_type": "code",
          "collapsed": false,
          "input": [
            "#keep\n",
            "from pyopencl.reduction import ReductionKernel"
          ],
          "language": "python",
          "metadata": {},
          "outputs": []
        },
        {
          "cell_type": "markdown",
          "metadata": {},
          "source": [
            "Syntax:\n",
            "\n",
            "ReductionKernel(context, dtype, netural, reduce_expr, map_expr, arguments)"
          ]
        },
        {
          "cell_type": "code",
          "collapsed": false,
          "input": [
            "rknl = ReductionKernel(ctx, np.float64,\n",
            "        neutral=\"0\",\n",
            "        reduce_expr=\"a+b\", map_expr=\"x[i]*x[i]\",\n",
            "        arguments=\"double *x\")"
          ],
          "language": "python",
          "metadata": {},
          "outputs": []
        },
        {
          "cell_type": "code",
          "collapsed": false,
          "input": [
            "#keep\n",
            "result2 = rknl(x)"
          ],
          "language": "python",
          "metadata": {},
          "outputs": []
        },
        {
          "cell_type": "code",
          "collapsed": false,
          "input": [
            "#keep\n",
            "type(result2)"
          ],
          "language": "python",
          "metadata": {},
          "outputs": []
        },
        {
          "cell_type": "code",
          "collapsed": false,
          "input": [
            "result2.shape"
          ],
          "language": "python",
          "metadata": {},
          "outputs": []
        },
        {
          "cell_type": "markdown",
          "metadata": {},
          "source": [
            "Now check the result: (Watch out: not `np.max(x)`!)"
          ]
        },
        {
          "cell_type": "code",
          "collapsed": false,
          "input": [
            "print result2.get()-result1"
          ],
          "language": "python",
          "metadata": {},
          "outputs": []
        },
        {
          "cell_type": "markdown",
          "metadata": {},
          "source": [
            "* Change this to find maximum.\n",
            "* Works on structured types, too.\n",
            "* What if you wanted to find maximum *and* location?"
          ]
        }
      ],
      "metadata": {}
    }
  ]
}