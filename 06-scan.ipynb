{
  "metadata": {
    "name": "",
    "signature": "sha256:f0c84d855ff1359500d2877f7534d976246c199cd492a6c1c8c3750138d13844"
  },
  "nbformat": 3,
  "nbformat_minor": 0,
  "worksheets": [
    {
      "cells": [
        {
          "cell_type": "code",
          "collapsed": false,
          "input": [
            "#keep\n",
            "import pyopencl as cl\n",
            "import pyopencl.array\n",
            "import pyopencl.clrandom\n",
            "import numpy as np\n",
            "import numpy.linalg as la"
          ],
          "language": "python",
          "metadata": {},
          "outputs": [
            {
              "output_type": "stream",
              "stream": "stderr",
              "text": [
                "/usr/lib/python2.7/pkgutil.py:186: ImportWarning: Not importing directory '/usr/lib/python2.7/dist-packages/enthought': missing __init__.py\n",
                "  file, filename, etc = imp.find_module(subname, path)\n"
              ]
            }
          ],
          "prompt_number": 1
        },
        {
          "cell_type": "code",
          "collapsed": false,
          "input": [
            "#keep\n",
            "ctx = cl.create_some_context()\n",
            "queue = cl.CommandQueue(ctx)"
          ],
          "language": "python",
          "metadata": {},
          "outputs": [],
          "prompt_number": 2
        },
        {
          "cell_type": "code",
          "collapsed": false,
          "input": [
            "#keep\n",
            "n = 10**7\n",
            "x = cl.clrandom.rand(queue, n, np.float64)"
          ],
          "language": "python",
          "metadata": {},
          "outputs": [
            {
              "output_type": "stream",
              "stream": "stderr",
              "text": [
                "/home/andreas/src/pyopencl/pyopencl/__init__.py:61: CompilerWarning: Non-empty compiler output encountered. Set the environment variable PYOPENCL_COMPILER_OUTPUT=1 to see more.\n",
                "  \"to see more.\", CompilerWarning)\n"
              ]
            }
          ],
          "prompt_number": 3
        },
        {
          "cell_type": "markdown",
          "metadata": {},
          "source": [
            "Want to compute the prefix sum of the squares of all entries in `x`.\n",
            "\n",
            "First, using `numpy`, as `result1`:"
          ]
        },
        {
          "cell_type": "code",
          "collapsed": false,
          "input": [
            "result1 = np.cumsum(x.get()**2)"
          ],
          "language": "python",
          "metadata": {},
          "outputs": [],
          "prompt_number": 4
        },
        {
          "cell_type": "markdown",
          "metadata": {},
          "source": [
            "Then, using PyOpenCL:"
          ]
        },
        {
          "cell_type": "code",
          "collapsed": false,
          "input": [
            "#keep\n",
            "from pyopencl.scan import GenericScanKernel"
          ],
          "language": "python",
          "metadata": {},
          "outputs": [],
          "prompt_number": 5
        },
        {
          "cell_type": "markdown",
          "metadata": {},
          "source": [
            "Syntax:\n",
            "    \n",
            "GSK(context, dtype, arguments, input_expr, scan_expr, neutral, output_statement)"
          ]
        },
        {
          "cell_type": "code",
          "collapsed": false,
          "input": [
            "sknl = GenericScanKernel(ctx, np.float64,\n",
            "    arguments=\"double *y, double *x\",\n",
            "    input_expr=\"x[i]*x[i]\",\n",
            "    scan_expr=\"a+b\", neutral=\"0\",\n",
            "    output_statement=\"y[i] = item\")"
          ],
          "language": "python",
          "metadata": {},
          "outputs": [],
          "prompt_number": 10
        },
        {
          "cell_type": "code",
          "collapsed": false,
          "input": [
            "#keep\n",
            "result2 = cl.array.empty_like(x)\n",
            "sknl(result2, x)"
          ],
          "language": "python",
          "metadata": {},
          "outputs": [
            {
              "metadata": {},
              "output_type": "pyout",
              "prompt_number": 11,
              "text": [
                "<pyopencl._cl.Event at 0x50bf050>"
              ]
            }
          ],
          "prompt_number": 11
        },
        {
          "cell_type": "code",
          "collapsed": false,
          "input": [
            "#keep\n",
            "print la.norm(result2.get() - result1)"
          ],
          "language": "python",
          "metadata": {},
          "outputs": [
            {
              "output_type": "stream",
              "stream": "stdout",
              "text": [
                "0.000167895767164\n"
              ]
            }
          ],
          "prompt_number": 13
        },
        {
          "cell_type": "markdown",
          "metadata": {},
          "source": [
            "More features:\n",
            "\n",
            "* Segmented Scan\n",
            "* Output stencils\n",
            "* Works on structured types"
          ]
        },
        {
          "cell_type": "markdown",
          "metadata": {},
          "source": [
            "---\n",
            "\n",
            "Exercise:\n",
            "\n",
            "* Assume you have a bag of points $x_i\\in[0,1]^2$\n",
            "* Work out how to sort them by quadrants, using four scans (one for each quadrant) and otherwise only local (elementwise) operations.\n",
            "* Do this using `numpy`, no need to use PyOpenCL"
          ]
        }
      ],
      "metadata": {}
    }
  ]
}