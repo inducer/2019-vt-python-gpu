{
  "metadata": {
    "name": "",
    "signature": "sha256:d407cb4645ff5112d8d4d42ec7f7a99a5e3f2bc53d4983351b58f43f824d7d86"
  },
  "nbformat": 3,
  "nbformat_minor": 0,
  "worksheets": [
    {
      "cells": [
        {
          "cell_type": "code",
          "collapsed": false,
          "input": [
            "#keep\n",
            "import pyopencl as cl\n",
            "import numpy as np\n",
            "import numpy.linalg as la\n",
            "\n",
            "mf = cl.mem_flags"
          ],
          "language": "python",
          "metadata": {},
          "outputs": [
            {
              "output_type": "stream",
              "stream": "stderr",
              "text": [
                "/usr/lib/python2.7/pkgutil.py:186: ImportWarning: Not importing directory '/usr/lib/python2.7/dist-packages/enthought': missing __init__.py\n",
                "  file, filename, etc = imp.find_module(subname, path)\n"
              ]
            }
          ],
          "prompt_number": 1
        },
        {
          "cell_type": "code",
          "collapsed": false,
          "input": [
            "#keep\n",
            "a = np.random.rand(50000).astype(np.float32)"
          ],
          "language": "python",
          "metadata": {},
          "outputs": [],
          "prompt_number": 2
        },
        {
          "cell_type": "markdown",
          "metadata": {},
          "source": [
            "Now create a context."
          ]
        },
        {
          "cell_type": "code",
          "collapsed": false,
          "input": [
            "ctx = cl.create_some_context()\n",
            "queue = cl.CommandQueue(ctx)"
          ],
          "language": "python",
          "metadata": {},
          "outputs": [],
          "prompt_number": 3
        },
        {
          "cell_type": "markdown",
          "metadata": {},
          "source": [
            "Now allocate a buffer. `Buffer(context, flags, size=None, hostbuf=None)`"
          ]
        },
        {
          "cell_type": "code",
          "collapsed": false,
          "input": [
            "a_buf = cl.Buffer(ctx, mf.READ_WRITE | mf.COPY_HOST_PTR, hostbuf=a)"
          ],
          "language": "python",
          "metadata": {},
          "outputs": [],
          "prompt_number": 4
        },
        {
          "cell_type": "code",
          "collapsed": false,
          "input": [
            "#keep\n",
            "prg = cl.Program(ctx, \"\"\"\n",
            "    __kernel void twice(__global float *a)\n",
            "    {\n",
            "      int gid = get_global_id(0);\n",
            "      a[gid] = 2*a[gid];\n",
            "    }\n",
            "    \"\"\").build()"
          ],
          "language": "python",
          "metadata": {},
          "outputs": [],
          "prompt_number": 5
        },
        {
          "cell_type": "markdown",
          "metadata": {},
          "source": [
            "Run the kernel."
          ]
        },
        {
          "cell_type": "code",
          "collapsed": false,
          "input": [
            "prg.twice(queue, a.shape, None, a_buf)"
          ],
          "language": "python",
          "metadata": {},
          "outputs": [
            {
              "metadata": {},
              "output_type": "pyout",
              "prompt_number": 6,
              "text": [
                "<pyopencl._cl.Event at 0x4776520>"
              ]
            }
          ],
          "prompt_number": 6
        },
        {
          "cell_type": "markdown",
          "metadata": {},
          "source": [
            "Copy the data back."
          ]
        },
        {
          "cell_type": "code",
          "collapsed": false,
          "input": [
            "result = np.empty_like(a)\n",
            "cl.enqueue_copy(queue, result, a_buf)"
          ],
          "language": "python",
          "metadata": {},
          "outputs": [
            {
              "metadata": {},
              "output_type": "pyout",
              "prompt_number": 7,
              "text": [
                "<pyopencl._cl.NannyEvent at 0x4776590>"
              ]
            }
          ],
          "prompt_number": 7
        },
        {
          "cell_type": "markdown",
          "metadata": {},
          "source": [
            "Check the result."
          ]
        },
        {
          "cell_type": "code",
          "collapsed": false,
          "input": [
            "print la.norm(result - 2*a), la.norm(a)"
          ],
          "language": "python",
          "metadata": {},
          "outputs": [
            {
              "output_type": "stream",
              "stream": "stdout",
              "text": [
                "0.0 129.089\n"
              ]
            }
          ],
          "prompt_number": 8
        }
      ],
      "metadata": {}
    }
  ]
}