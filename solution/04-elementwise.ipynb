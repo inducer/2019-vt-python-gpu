{
  "metadata": {
    "name": "",
    "signature": "sha256:5a452f045095ef2e48ddc824795c74dac0c87a3c5d9a3a29caf4c0b46d8b4144"
  },
  "nbformat": 3,
  "nbformat_minor": 0,
  "worksheets": [
    {
      "cells": [
        {
          "cell_type": "code",
          "collapsed": false,
          "input": [
            "#keep\n",
            "import pyopencl as cl\n",
            "import pyopencl.array\n",
            "import pyopencl.clrandom\n",
            "import numpy as np"
          ],
          "language": "python",
          "metadata": {},
          "outputs": [
            {
              "output_type": "stream",
              "stream": "stderr",
              "text": [
                "/usr/lib/python2.7/pkgutil.py:186: ImportWarning: Not importing directory '/usr/lib/python2.7/dist-packages/enthought': missing __init__.py\n",
                "  file, filename, etc = imp.find_module(subname, path)\n"
              ]
            }
          ],
          "prompt_number": 1
        },
        {
          "cell_type": "code",
          "collapsed": false,
          "input": [
            "#keep\n",
            "ctx = cl.create_some_context()\n",
            "queue = cl.CommandQueue(ctx)"
          ],
          "language": "python",
          "metadata": {},
          "outputs": [],
          "prompt_number": 38
        },
        {
          "cell_type": "code",
          "collapsed": false,
          "input": [
            "#keep\n",
            "n = 10**7\n",
            "a = cl.clrandom.rand(queue, n, np.float32)\n",
            "b = cl.clrandom.rand(queue, n, np.float32)"
          ],
          "language": "python",
          "metadata": {},
          "outputs": [],
          "prompt_number": 30
        },
        {
          "cell_type": "code",
          "collapsed": false,
          "input": [
            "#keep\n",
            "c1 = 5*a + 6*b"
          ],
          "language": "python",
          "metadata": {},
          "outputs": [],
          "prompt_number": 31
        },
        {
          "cell_type": "code",
          "collapsed": false,
          "input": [
            "#keep\n",
            "from pyopencl.elementwise import ElementwiseKernel"
          ],
          "language": "python",
          "metadata": {},
          "outputs": [],
          "prompt_number": 32
        },
        {
          "cell_type": "code",
          "collapsed": false,
          "input": [
            "lin_comb = ElementwiseKernel(ctx,\n",
            "        \"float a, float *x, float b, float *y, float *c\",\n",
            "        \"c[i] = a*x[i] + b*y[i]\")"
          ],
          "language": "python",
          "metadata": {},
          "outputs": [],
          "prompt_number": 33
        },
        {
          "cell_type": "code",
          "collapsed": false,
          "input": [
            "#keep\n",
            "c2 = cl.array.empty_like(a)\n",
            "lin_comb(5, a, 6, b, c2)"
          ],
          "language": "python",
          "metadata": {},
          "outputs": [
            {
              "metadata": {},
              "output_type": "pyout",
              "prompt_number": 34,
              "text": [
                "<pyopencl._cl.Event at 0x389c3d0>"
              ]
            }
          ],
          "prompt_number": 34
        },
        {
          "cell_type": "code",
          "collapsed": false,
          "input": [
            "#keep\n",
            "import numpy.linalg as la\n",
            "print la.norm(c1.get() - c2.get())"
          ],
          "language": "python",
          "metadata": {},
          "outputs": [
            {
              "output_type": "stream",
              "stream": "stdout",
              "text": [
                "0.0\n"
              ]
            }
          ],
          "prompt_number": 35
        },
        {
          "cell_type": "markdown",
          "metadata": {},
          "source": [
            "----"
          ]
        },
        {
          "cell_type": "code",
          "collapsed": false,
          "input": [
            "#keep\n",
            "from time import time\n",
            "queue.finish()\n",
            "start_time = time()\n",
            "\n",
            "for i in range(10):\n",
            "    c1 = 5*a + 6*b\n",
            "    \n",
            "queue.finish()\n",
            "print \"elapsed: {0} s\".format(time()-start_time)"
          ],
          "language": "python",
          "metadata": {},
          "outputs": [
            {
              "output_type": "stream",
              "stream": "stdout",
              "text": [
                "elapsed: 5.88562488556 s\n"
              ]
            }
          ],
          "prompt_number": 36
        },
        {
          "cell_type": "code",
          "collapsed": false,
          "input": [
            "#keep\n",
            "from time import time\n",
            "queue.finish()\n",
            "start_time = time()\n",
            "\n",
            "for i in range(10):\n",
            "    lin_comb(5, a, 6, b, c2)\n",
            "    \n",
            "queue.finish()\n",
            "print \"elapsed: {0} s\".format(time()-start_time)"
          ],
          "language": "python",
          "metadata": {},
          "outputs": [
            {
              "output_type": "stream",
              "stream": "stdout",
              "text": [
                "elapsed: 2.22973799706 s\n"
              ]
            }
          ],
          "prompt_number": 37
        }
      ],
      "metadata": {}
    }
  ]
}